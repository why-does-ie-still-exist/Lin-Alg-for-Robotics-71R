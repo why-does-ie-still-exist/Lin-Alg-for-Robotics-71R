{
  "nbformat": 4,
  "nbformat_minor": 0,
  "metadata": {
    "colab": {
      "name": "Lin Alg for Forward.ipynb",
      "provenance": [],
      "collapsed_sections": [],
      "authorship_tag": "ABX9TyOAC9RTY+yp5oj64XLmVxSA",
      "include_colab_link": true
    },
    "kernelspec": {
      "name": "python3",
      "display_name": "Python 3"
    },
    "language_info": {
      "name": "python"
    }
  },
  "cells": [
    {
      "cell_type": "markdown",
      "metadata": {
        "id": "view-in-github",
        "colab_type": "text"
      },
      "source": [
        "<a href=\"https://colab.research.google.com/github/why-does-ie-still-exist/Lin-Alg-for-Robotics-71R/blob/main/Lin_Alg_for_Forward.ipynb\" target=\"_parent\"><img src=\"https://colab.research.google.com/assets/colab-badge.svg\" alt=\"Open In Colab\"/></a>"
      ]
    },
    {
      "cell_type": "code",
      "execution_count": 1,
      "metadata": {
        "id": "v2RqPaCDL5k4"
      },
      "outputs": [],
      "source": [
        "import numpy as np\n",
        "from math import *\n",
        "\n",
        "upperlen = .11\n",
        "lowerlen = .11\n",
        "plateoffset = .05\n",
        "upperrot = pi/2\n",
        "lowerrot = pi/2\n",
        "baserot = pi/2"
      ]
    },
    {
      "cell_type": "code",
      "source": [
        "A0toEinA = np.array([0,0,upperlen])\n",
        "A0toEinA"
      ],
      "metadata": {
        "colab": {
          "base_uri": "https://localhost:8080/"
        },
        "id": "5gzCnO_kOf7o",
        "outputId": "a7976cef-5d56-47f3-9c21-213467fdbccd"
      },
      "execution_count": 2,
      "outputs": [
        {
          "output_type": "execute_result",
          "data": {
            "text/plain": [
              "array([0.  , 0.  , 0.11])"
            ]
          },
          "metadata": {},
          "execution_count": 2
        }
      ]
    },
    {
      "cell_type": "code",
      "source": [
        "#we're rotating in the z-axis, assuming B is aligned with the normal coordinate system\n",
        "matrixFromAtoB = np.array([\n",
        "                           [cos(upperrot), 0, -sin(upperrot)],\n",
        "                           [0, 1, 0,],\n",
        "                           [sin(upperrot), 0, cos(upperrot)],\n",
        "])\n",
        "matrixFromAtoB"
      ],
      "metadata": {
        "colab": {
          "base_uri": "https://localhost:8080/"
        },
        "id": "sMajyiPjOemo",
        "outputId": "61b2938c-2244-49bd-c1e3-58a50dd29341"
      },
      "execution_count": 3,
      "outputs": [
        {
          "output_type": "execute_result",
          "data": {
            "text/plain": [
              "array([[ 6.123234e-17,  0.000000e+00, -1.000000e+00],\n",
              "       [ 0.000000e+00,  1.000000e+00,  0.000000e+00],\n",
              "       [ 1.000000e+00,  0.000000e+00,  6.123234e-17]])"
            ]
          },
          "metadata": {},
          "execution_count": 3
        }
      ]
    },
    {
      "cell_type": "code",
      "source": [
        "B0toA0inB = np.array([0,0,lowerlen])\n",
        "\n",
        "B0toEinB = B0toA0inB + np.matmul(matrixFromAtoB, A0toEinA)\n",
        "B0toEinB"
      ],
      "metadata": {
        "colab": {
          "base_uri": "https://localhost:8080/"
        },
        "id": "yts7uXDTOh3T",
        "outputId": "deee43b0-add6-4c5d-aaaf-2c3cd6a24627"
      },
      "execution_count": 4,
      "outputs": [
        {
          "output_type": "execute_result",
          "data": {
            "text/plain": [
              "array([-0.11,  0.  ,  0.11])"
            ]
          },
          "metadata": {},
          "execution_count": 4
        }
      ]
    },
    {
      "cell_type": "code",
      "source": [
        "matrixfromBtoC = np.array([\n",
        "                           [cos(lowerrot), 0, -sin(lowerrot)],\n",
        "                           [0, 1, 0,],\n",
        "                           [sin(lowerrot), 0, cos(lowerrot)],\n",
        "])\n",
        "\n",
        "C0toE = np.matmul(matrixfromBtoC, B0toEinB)\n",
        "C0toE"
      ],
      "metadata": {
        "colab": {
          "base_uri": "https://localhost:8080/"
        },
        "id": "tiwfVLLKPncH",
        "outputId": "caec87b1-93d8-428d-a02a-359262cf8b60"
      },
      "execution_count": 5,
      "outputs": [
        {
          "output_type": "execute_result",
          "data": {
            "text/plain": [
              "array([-0.11,  0.  , -0.11])"
            ]
          },
          "metadata": {},
          "execution_count": 5
        }
      ]
    },
    {
      "cell_type": "code",
      "source": [
        "matrixfromCtoD = np.array([\n",
        "                           [cos(baserot), -sin(baserot),0],\n",
        "                           [sin(baserot), cos(baserot), 0],\n",
        "                           [0,0,1],\n",
        "])\n",
        "C0toEinD = np.matmul(matrixfromCtoD, C0toE)\n",
        "D0toC0inD = [0,0,plateoffset],\n",
        "\n",
        "D0toEinD = D0toC0inD + C0toEinD\n",
        "D0toEinD"
      ],
      "metadata": {
        "colab": {
          "base_uri": "https://localhost:8080/"
        },
        "id": "4oKVz2aVQPum",
        "outputId": "d7c40c60-847d-4ad6-cbf1-97b1afad90ff"
      },
      "execution_count": 6,
      "outputs": [
        {
          "output_type": "execute_result",
          "data": {
            "text/plain": [
              "array([[-6.7355574e-18, -1.1000000e-01, -6.0000000e-02]])"
            ]
          },
          "metadata": {},
          "execution_count": 6
        }
      ]
    }
  ]
}