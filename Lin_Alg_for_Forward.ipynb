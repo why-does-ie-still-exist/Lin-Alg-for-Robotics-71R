{
  "nbformat": 4,
  "nbformat_minor": 0,
  "metadata": {
    "colab": {
      "name": "Lin Alg for Forward.ipynb",
      "provenance": [],
      "collapsed_sections": [],
      "authorship_tag": "ABX9TyOg5T7liMBYFaB+7f7ew53t",
      "include_colab_link": true
    },
    "kernelspec": {
      "name": "python3",
      "display_name": "Python 3"
    },
    "language_info": {
      "name": "python"
    }
  },
  "cells": [
    {
      "cell_type": "markdown",
      "metadata": {
        "id": "view-in-github",
        "colab_type": "text"
      },
      "source": [
        "<a href=\"https://colab.research.google.com/github/why-does-ie-still-exist/Lin-Alg-for-Robotics-71R/blob/main/Lin_Alg_for_Forward.ipynb\" target=\"_parent\"><img src=\"https://colab.research.google.com/assets/colab-badge.svg\" alt=\"Open In Colab\"/></a>"
      ]
    },
    {
      "cell_type": "code",
      "execution_count": null,
      "metadata": {
        "id": "v2RqPaCDL5k4"
      },
      "outputs": [],
      "source": [
        "import numpy as np\n",
        "from math import *\n",
        "\n",
        "upperlen = .11\n",
        "lowerlen = .11\n",
        "plateoffset = .05\n",
        "upperrot = pi/2\n",
        "lowerrot = 0\n",
        "baserot = pi/2"
      ]
    },
    {
      "cell_type": "code",
      "source": [
        "A0toE = np.array([0,0,upperlen])\n",
        "A0toE"
      ],
      "metadata": {
        "colab": {
          "base_uri": "https://localhost:8080/"
        },
        "id": "5gzCnO_kOf7o",
        "outputId": "3ab1af77-713a-41a3-b298-6c5afadb62f1"
      },
      "execution_count": null,
      "outputs": [
        {
          "output_type": "execute_result",
          "data": {
            "text/plain": [
              "array([0.  , 0.  , 0.11])"
            ]
          },
          "metadata": {},
          "execution_count": 56
        }
      ]
    },
    {
      "cell_type": "code",
      "source": [
        "#we're rotating in the z-axis, assuming B is aligned with the normal coordinate system\n",
        "matrixFromAtoB = np.array([\n",
        "                           [cos(upperrot), 0, -sin(upperrot)],\n",
        "                           [0, 1, 0,],\n",
        "                           [sin(upperrot), 0, cos(upperrot)],\n",
        "])\n",
        "matrixFromAtoB"
      ],
      "metadata": {
        "colab": {
          "base_uri": "https://localhost:8080/"
        },
        "id": "sMajyiPjOemo",
        "outputId": "fbee21bf-693b-4793-e56c-098a11ea1160"
      },
      "execution_count": null,
      "outputs": [
        {
          "output_type": "execute_result",
          "data": {
            "text/plain": [
              "array([[ 6.123234e-17,  0.000000e+00, -1.000000e+00],\n",
              "       [ 0.000000e+00,  1.000000e+00,  0.000000e+00],\n",
              "       [ 1.000000e+00,  0.000000e+00,  6.123234e-17]])"
            ]
          },
          "metadata": {},
          "execution_count": 57
        }
      ]
    },
    {
      "cell_type": "code",
      "source": [
        "B0toA0 = np.array([0,0,lowerlen])\n",
        "\n",
        "B0toE = B0toA0 + np.matmul(matrixFromAtoB, A0toE)\n",
        "B0toE"
      ],
      "metadata": {
        "colab": {
          "base_uri": "https://localhost:8080/"
        },
        "id": "yts7uXDTOh3T",
        "outputId": "ae81aa85-e130-4caa-c1cf-2c2182474b1b"
      },
      "execution_count": null,
      "outputs": [
        {
          "output_type": "execute_result",
          "data": {
            "text/plain": [
              "array([-0.11,  0.  ,  0.11])"
            ]
          },
          "metadata": {},
          "execution_count": 58
        }
      ]
    },
    {
      "cell_type": "code",
      "source": [
        "matrixfromBtoC = np.array([\n",
        "                           [cos(baserot), -sin(baserot),0],\n",
        "                           [sin(baserot), cos(baserot), 0],\n",
        "                           [0,0,1],\n",
        "])\n",
        "\n",
        "C0toE = np.matmul(matrixfromBtoC, B0toE)\n",
        "C0toE"
      ],
      "metadata": {
        "colab": {
          "base_uri": "https://localhost:8080/"
        },
        "id": "tiwfVLLKPncH",
        "outputId": "803c2798-5a30-4d0f-c585-2ce8989139cb"
      },
      "execution_count": null,
      "outputs": [
        {
          "output_type": "execute_result",
          "data": {
            "text/plain": [
              "array([-6.7355574e-18, -1.1000000e-01,  1.1000000e-01])"
            ]
          },
          "metadata": {},
          "execution_count": 59
        }
      ]
    },
    {
      "cell_type": "code",
      "source": [
        "D0toC0 = [0,0,plateoffset],\n",
        "\n",
        "D0toE = D0toC0 + C0toE\n",
        "D0toE"
      ],
      "metadata": {
        "colab": {
          "base_uri": "https://localhost:8080/"
        },
        "id": "4oKVz2aVQPum",
        "outputId": "ffdb99bc-b194-4dc1-d6aa-48675d121901"
      },
      "execution_count": null,
      "outputs": [
        {
          "output_type": "execute_result",
          "data": {
            "text/plain": [
              "array([[-6.7355574e-18, -1.1000000e-01,  1.6000000e-01]])"
            ]
          },
          "metadata": {},
          "execution_count": 60
        }
      ]
    }
  ]
}