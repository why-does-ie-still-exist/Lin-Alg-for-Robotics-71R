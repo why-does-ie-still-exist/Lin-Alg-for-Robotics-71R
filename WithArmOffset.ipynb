{
  "nbformat": 4,
  "nbformat_minor": 0,
  "metadata": {
    "colab": {
      "name": "WithArmOffset.ipynb",
      "provenance": [],
      "collapsed_sections": [],
      "authorship_tag": "ABX9TyMp/fWfTlHkg6daG0rKSyXy",
      "include_colab_link": true
    },
    "kernelspec": {
      "name": "python3",
      "display_name": "Python 3"
    },
    "language_info": {
      "name": "python"
    }
  },
  "cells": [
    {
      "cell_type": "markdown",
      "metadata": {
        "id": "view-in-github",
        "colab_type": "text"
      },
      "source": [
        "<a href=\"https://colab.research.google.com/github/why-does-ie-still-exist/Lin-Alg-for-Robotics-71R/blob/main/WithArmOffset.ipynb\" target=\"_parent\"><img src=\"https://colab.research.google.com/assets/colab-badge.svg\" alt=\"Open In Colab\"/></a>"
      ]
    },
    {
      "cell_type": "code",
      "source": [
        "import numpy as np\n",
        "from math import *\n",
        "\n",
        "HIP_OFFSET = 0.0335\n",
        "L1 = 0.08 # length of link 1\n",
        "L2 = 0.11 # length of link 2"
      ],
      "metadata": {
        "id": "J2W-_PwnE0Ht"
      },
      "execution_count": null,
      "outputs": []
    },
    {
      "cell_type": "code",
      "execution_count": null,
      "metadata": {
        "id": "Lsig56fZEsNc"
      },
      "outputs": [],
      "source": [
        "upperrot = joint_angles[2]\n",
        "lowerrot = joint_angles[1]\n",
        "baserot = -joint_angles[0]\n",
        "\n",
        "A0toEinA = np.array([0, 0, L2])\n",
        "\n",
        "matrixFromAtoB = np.array([\n",
        "    [cos(upperrot), 0, -sin(upperrot)],\n",
        "    [0, 1, 0, ],\n",
        "    [sin(upperrot), 0, cos(upperrot)],\n",
        "])\n",
        "\n",
        "B0toA0inB = np.array([0, 0, L1])\n",
        "\n",
        "B0toEinB = B0toA0inB + np.matmul(matrixFromAtoB, A0toEinA)\n",
        "\n",
        "matrixfromBtoC = np.array([\n",
        "    [cos(lowerrot), 0, -sin(lowerrot)],\n",
        "    [0, 1, 0, ],\n",
        "    [sin(lowerrot), 0, cos(lowerrot)],\n",
        "])\n",
        "\n",
        "C0toB0inC = np.array([0,-HIP_OFFSET,0])\n",
        "\n",
        "C0toEinC = C0toB0inC + np.matmul(matrixfromBtoC, B0toEinB)\n",
        "\n",
        "matrixfromCtoD = np.array([\n",
        "    [cos(baserot), -sin(baserot), 0],\n",
        "    [sin(baserot), cos(baserot), 0],\n",
        "    [0, 0, 1],\n",
        "])\n",
        "\n",
        "C0toEinD = np.matmul(matrixfromCtoD, C0toEinC)\n",
        "D0toC0inD = [0, 0, 0]\n",
        "\n",
        "D0toEinD = D0toC0inD + C0toEinD\n",
        "\n",
        "return D0toEinD"
      ]
    }
  ]
}